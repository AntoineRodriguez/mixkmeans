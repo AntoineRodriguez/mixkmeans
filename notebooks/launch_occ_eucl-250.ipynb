{
 "cells": [
  {
   "cell_type": "code",
   "execution_count": 1,
   "id": "f97f08fa",
   "metadata": {},
   "outputs": [
    {
     "name": "stdout",
     "output_type": "stream",
     "text": [
      "C:\\Users\\rodri\\Documents\\MLDS\\mixkmeans\n"
     ]
    }
   ],
   "source": [
    "import os\n",
    "os.chdir('../')\n",
    "print(os.getcwd())"
   ]
  },
  {
   "cell_type": "code",
   "execution_count": 2,
   "id": "1983468e",
   "metadata": {},
   "outputs": [],
   "source": [
    "from scipy import sparse\n",
    "\n",
    "import numpy as np\n",
    "\n",
    "from mixkmeans import MixKMeans\n",
    "\n",
    "\n",
    "def launch(data, distance, save_model, save_historic):\n",
    "    dtm = sparse.load_npz(data)\n",
    "\n",
    "    COST_HISTORIC = []\n",
    "    for K in np.arange(250, 550, 50):\n",
    "        print('begin fitting with {} clusters'.format(K))\n",
    "        model = MixKMeans(x=-3, weights=(0.2, 0.8), distance=distance, save_file=save_model)\n",
    "        cost = model.fit(dtm, K, 50)\n",
    "        COST_HISTORIC.append(cost)\n",
    "\n",
    "        np.savez(save_historic, K, COST_HISTORIC)"
   ]
  },
  {
   "cell_type": "code",
   "execution_count": null,
   "id": "01893236",
   "metadata": {},
   "outputs": [
    {
     "name": "stdout",
     "output_type": "stream",
     "text": [
      "begin fitting with 250 clusters\n",
      "Begin fitting\n"
     ]
    }
   ],
   "source": [
    "launch('data/data_preprocess/dtm_occ.npz', 'cosin', 'notebooks/backup/occ_eucl_save-250.pkl', 'notebooks/backup/occ_eucl_save-250.npz')"
   ]
  },
  {
   "cell_type": "code",
   "execution_count": null,
   "id": "c2f91688",
   "metadata": {},
   "outputs": [],
   "source": []
  }
 ],
 "metadata": {
  "kernelspec": {
   "display_name": "Python 3",
   "language": "python",
   "name": "python3"
  },
  "language_info": {
   "codemirror_mode": {
    "name": "ipython",
    "version": 3
   },
   "file_extension": ".py",
   "mimetype": "text/x-python",
   "name": "python",
   "nbconvert_exporter": "python",
   "pygments_lexer": "ipython3",
   "version": "3.8.9"
  }
 },
 "nbformat": 4,
 "nbformat_minor": 5
}

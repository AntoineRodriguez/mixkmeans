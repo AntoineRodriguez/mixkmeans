{
 "cells": [
  {
   "cell_type": "code",
   "execution_count": 1,
   "id": "78e03c09",
   "metadata": {},
   "outputs": [],
   "source": [
    "import os\n",
    "\n",
    "os.chdir('../')\n",
    "from training import launch"
   ]
  },
  {
   "cell_type": "code",
   "execution_count": null,
   "id": "039fa9ee",
   "metadata": {},
   "outputs": [
    {
     "name": "stdout",
     "output_type": "stream",
     "text": [
      "begin fitting with 100 clusters\n",
      "initialization number 1\n",
      "Begin fitting\n",
      "initalisation :  0.006001472473144531 s\n"
     ]
    }
   ],
   "source": [
    "launch('data/data_preprocess/dtm_occ.npz',\n",
    "       'eucl',\n",
    "       'notebook/occ-eucl_save-100-567.pkl',\n",
    "       'occ-eucl_save-100-567.npz', \n",
    "       100, 3,\n",
    "       min_cost=407467.65173875)"
   ]
  },
  {
   "cell_type": "code",
   "execution_count": null,
   "id": "a0dc8693",
   "metadata": {},
   "outputs": [],
   "source": []
  },
  {
   "cell_type": "code",
   "execution_count": null,
   "id": "7e82f3f2",
   "metadata": {},
   "outputs": [],
   "source": []
  }
 ],
 "metadata": {
  "kernelspec": {
   "display_name": "Python 3",
   "language": "python",
   "name": "python3"
  },
  "language_info": {
   "codemirror_mode": {
    "name": "ipython",
    "version": 3
   },
   "file_extension": ".py",
   "mimetype": "text/x-python",
   "name": "python",
   "nbconvert_exporter": "python",
   "pygments_lexer": "ipython3",
   "version": "3.8.9"
  }
 },
 "nbformat": 4,
 "nbformat_minor": 5
}

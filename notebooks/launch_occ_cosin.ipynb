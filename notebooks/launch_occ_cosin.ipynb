{
 "cells": [
  {
   "cell_type": "code",
   "execution_count": 1,
   "id": "259eeeba",
   "metadata": {},
   "outputs": [
    {
     "name": "stdout",
     "output_type": "stream",
     "text": [
      "C:\\Users\\rodri\\Documents\\MLDS\\mixkmeans\n"
     ]
    }
   ],
   "source": [
    "import os\n",
    "os.chdir('../')\n",
    "print(os.getcwd())"
   ]
  },
  {
   "cell_type": "code",
   "execution_count": 2,
   "id": "5cc81095",
   "metadata": {},
   "outputs": [],
   "source": [
    "from training import launch"
   ]
  },
  {
   "cell_type": "code",
   "execution_count": null,
   "id": "84c533c6",
   "metadata": {},
   "outputs": [
    {
     "name": "stdout",
     "output_type": "stream",
     "text": [
      "begin fitting with 50 clusters\n",
      "Begin fitting\n",
      "1\n",
      "2\n",
      "3\n",
      "begin fitting with 100 clusters\n",
      "Begin fitting\n"
     ]
    }
   ],
   "source": [
    "launch('data/data_preprocess/dtm_occ.npz', 'cosin', 'notebooks/backup/occ_cosin_save.pkl', 'notebooks/backup/occ_cosin_save.npz')"
   ]
  },
  {
   "cell_type": "code",
   "execution_count": null,
   "id": "6143efdf",
   "metadata": {},
   "outputs": [],
   "source": []
  }
 ],
 "metadata": {
  "kernelspec": {
   "display_name": "Python 3",
   "language": "python",
   "name": "python3"
  },
  "language_info": {
   "codemirror_mode": {
    "name": "ipython",
    "version": 3
   },
   "file_extension": ".py",
   "mimetype": "text/x-python",
   "name": "python",
   "nbconvert_exporter": "python",
   "pygments_lexer": "ipython3",
   "version": "3.8.9"
  }
 },
 "nbformat": 4,
 "nbformat_minor": 5
}

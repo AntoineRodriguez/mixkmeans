{
 "cells": [
  {
   "cell_type": "code",
   "execution_count": 6,
   "id": "6613daeb",
   "metadata": {},
   "outputs": [
    {
     "ename": "ModuleNotFoundError",
     "evalue": "No module named 'training'",
     "output_type": "error",
     "traceback": [
      "\u001b[1;31m---------------------------------------------------------------------------\u001b[0m",
      "\u001b[1;31mModuleNotFoundError\u001b[0m                       Traceback (most recent call last)",
      "\u001b[1;32m<ipython-input-6-227c69fcea27>\u001b[0m in \u001b[0;36m<module>\u001b[1;34m\u001b[0m\n\u001b[0;32m      1\u001b[0m \u001b[1;32mimport\u001b[0m \u001b[0mos\u001b[0m\u001b[1;33m\u001b[0m\u001b[1;33m\u001b[0m\u001b[0m\n\u001b[0;32m      2\u001b[0m \u001b[1;33m\u001b[0m\u001b[0m\n\u001b[1;32m----> 3\u001b[1;33m \u001b[1;32mfrom\u001b[0m \u001b[0mtraining\u001b[0m \u001b[1;32mimport\u001b[0m \u001b[0mlaunch\u001b[0m\u001b[1;33m\u001b[0m\u001b[1;33m\u001b[0m\u001b[0m\n\u001b[0m",
      "\u001b[1;31mModuleNotFoundError\u001b[0m: No module named 'training'"
     ]
    }
   ],
   "source": [
    "import os\n",
    "\n",
    "from training import launch"
   ]
  },
  {
   "cell_type": "code",
   "execution_count": null,
   "id": "1325d6b9",
   "metadata": {},
   "outputs": [],
   "source": [
    "from scipy import sparse\n",
    "\n",
    "import numpy as np\n",
    "\n",
    "from mixkmeans import MixKMeans\n",
    "\n",
    "\n",
    "def launch(data, distance, save_model, save_historic):\n",
    "    dtm = sparse.load_npz(data)\n",
    "\n",
    "    COST_HISTORIC = []\n",
    "    for K in np.arange(250, 550, 50):\n",
    "        print('begin fitting with {} clusters'.format(K))\n",
    "        model = MixKMeans(x=-3, weights=(0.2, 0.8), distance=distance, save_file=save_model)\n",
    "        cost = model.fit(dtm, K, 50)\n",
    "        COST_HISTORIC.append(cost)\n",
    "\n",
    "        np.savez(save_historic, K, COST_HISTORIC)"
   ]
  },
  {
   "cell_type": "code",
   "execution_count": null,
   "id": "220bf28d",
   "metadata": {},
   "outputs": [
    {
     "name": "stdout",
     "output_type": "stream",
     "text": [
      "begin fitting with 250 clusters\n",
      "Begin fitting\n"
     ]
    }
   ],
   "source": [
    "launch('data/data_preprocess/dtm_occ.npz', 'cosin', 'notebooks/backup/occ_cosin_save-250.pkl', 'notebooks/backup/occ_cosin_save-250.npz')"
   ]
  },
  {
   "cell_type": "code",
   "execution_count": null,
   "id": "756227e6",
   "metadata": {},
   "outputs": [],
   "source": []
  }
 ],
 "metadata": {
  "kernelspec": {
   "display_name": "Python 3",
   "language": "python",
   "name": "python3"
  },
  "language_info": {
   "codemirror_mode": {
    "name": "ipython",
    "version": 3
   },
   "file_extension": ".py",
   "mimetype": "text/x-python",
   "name": "python",
   "nbconvert_exporter": "python",
   "pygments_lexer": "ipython3",
   "version": "3.8.9"
  }
 },
 "nbformat": 4,
 "nbformat_minor": 5
}

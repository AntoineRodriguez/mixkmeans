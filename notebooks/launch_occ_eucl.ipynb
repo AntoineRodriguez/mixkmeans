{
 "cells": [
  {
   "cell_type": "code",
   "execution_count": 2,
   "id": "a5896beb",
   "metadata": {},
   "outputs": [
    {
     "name": "stdout",
     "output_type": "stream",
     "text": [
      "C:\\Users\\rodri\\Documents\\MLDS\\mixkmeans\n"
     ]
    }
   ],
   "source": [
    "import os\n",
    "os.chdir('../')\n",
    "print(os.getcwd())"
   ]
  },
  {
   "cell_type": "code",
   "execution_count": 6,
   "id": "72794305",
   "metadata": {
    "scrolled": true
   },
   "outputs": [],
   "source": [
    "from training import launch"
   ]
  },
  {
   "cell_type": "code",
   "execution_count": null,
   "id": "c787c5fd",
   "metadata": {},
   "outputs": [],
   "source": [
    "launch('data/data_preprocess/dtm_occ.npz', 'eucl', 'notebooks/backup/occ_eucl_save.pkl', 'notebooks/backup/occ_eucl_save.npz')"
   ]
  }
 ],
 "metadata": {
  "kernelspec": {
   "display_name": "Python 3",
   "language": "python",
   "name": "python3"
  },
  "language_info": {
   "codemirror_mode": {
    "name": "ipython",
    "version": 3
   },
   "file_extension": ".py",
   "mimetype": "text/x-python",
   "name": "python",
   "nbconvert_exporter": "python",
   "pygments_lexer": "ipython3",
   "version": "3.8.9"
  }
 },
 "nbformat": 4,
 "nbformat_minor": 5
}

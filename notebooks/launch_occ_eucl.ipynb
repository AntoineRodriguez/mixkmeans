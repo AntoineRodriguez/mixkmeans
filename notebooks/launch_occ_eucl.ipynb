{
 "cells": [
  {
   "cell_type": "code",
   "execution_count": 2,
   "id": "77d43277",
   "metadata": {},
   "outputs": [
    {
     "name": "stdout",
     "output_type": "stream",
     "text": [
      "C:\\Users\\rodri\\Documents\\MLDS\\mixkmeans\n"
     ]
    }
   ],
   "source": [
    "import os\n",
    "os.chdir('../')\n",
    "print(os.getcwd())"
   ]
  },
  {
   "cell_type": "code",
   "execution_count": 6,
   "id": "695f093f",
   "metadata": {
    "scrolled": true
   },
   "outputs": [],
   "source": [
    "from training import launch"
   ]
  },
  {
   "cell_type": "code",
   "execution_count": null,
   "id": "2b101640",
   "metadata": {},
   "outputs": [
    {
     "name": "stdout",
     "output_type": "stream",
     "text": [
      "begin fitting with 50 clusters\n",
      "Begin fitting\n",
      "1\n",
      "2\n",
      "3\n",
      "4\n",
      "5\n",
      "6\n",
      "7\n",
      "8\n",
      "9\n",
      "10\n",
      "11\n",
      "12\n",
      "13\n",
      "14\n",
      "15\n",
      "16\n",
      "17\n",
      "18\n",
      "19\n",
      "begin fitting with 100 clusters\n",
      "Begin fitting\n"
     ]
    }
   ],
   "source": [
    "launch('data/data_preprocess/dtm_occ.npz', 'eucl', 'notebooks/backup/occ_eucl_save.pkl', 'notebooks/backup/occ_eucl_save.npz')"
   ]
  },
  {
   "cell_type": "code",
   "execution_count": null,
   "id": "395b1f38",
   "metadata": {},
   "outputs": [],
   "source": []
  }
 ],
 "metadata": {
  "kernelspec": {
   "display_name": "Python 3",
   "language": "python",
   "name": "python3"
  },
  "language_info": {
   "codemirror_mode": {
    "name": "ipython",
    "version": 3
   },
   "file_extension": ".py",
   "mimetype": "text/x-python",
   "name": "python",
   "nbconvert_exporter": "python",
   "pygments_lexer": "ipython3",
   "version": "3.8.9"
  }
 },
 "nbformat": 4,
 "nbformat_minor": 5
}

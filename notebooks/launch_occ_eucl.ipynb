{
 "cells": [
  {
   "cell_type": "code",
   "execution_count": 2,
   "id": "c9ab8933",
   "metadata": {},
   "outputs": [
    {
     "name": "stdout",
     "output_type": "stream",
     "text": [
      "C:\\Users\\rodri\\Documents\\MLDS\\mixkmeans\n"
     ]
    }
   ],
   "source": [
    "import os\n",
    "os.chdir('../')\n",
    "print(os.getcwd())"
   ]
  },
  {
   "cell_type": "code",
   "execution_count": 6,
   "id": "fc93d2bd",
   "metadata": {
    "scrolled": true
   },
   "outputs": [],
   "source": [
    "from training import launch"
   ]
  },
  {
   "cell_type": "code",
   "execution_count": null,
   "id": "fff8f08b",
   "metadata": {},
   "outputs": [
    {
     "name": "stdout",
     "output_type": "stream",
     "text": [
      "begin fitting with 50 clusters\n",
      "Begin fitting\n",
      "1\n",
      "2\n",
      "3\n",
      "4\n",
      "5\n",
      "6\n",
      "7\n",
      "8\n",
      "9\n",
      "10\n"
     ]
    }
   ],
   "source": [
    "launch('data/data_preprocess/dtm_occ.npz', 'eucl', 'notebooks/backup/occ_eucl_save.pkl', 'notebooks/backup/occ_eucl_save.npz')"
   ]
  },
  {
   "cell_type": "code",
   "execution_count": null,
   "id": "1bd6b733",
   "metadata": {},
   "outputs": [],
   "source": []
  }
 ],
 "metadata": {
  "kernelspec": {
   "display_name": "Python 3",
   "language": "python",
   "name": "python3"
  },
  "language_info": {
   "codemirror_mode": {
    "name": "ipython",
    "version": 3
   },
   "file_extension": ".py",
   "mimetype": "text/x-python",
   "name": "python",
   "nbconvert_exporter": "python",
   "pygments_lexer": "ipython3",
   "version": "3.8.9"
  }
 },
 "nbformat": 4,
 "nbformat_minor": 5
}
